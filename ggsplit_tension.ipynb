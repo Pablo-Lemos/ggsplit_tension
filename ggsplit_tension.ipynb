{
 "cells": [
  {
   "cell_type": "markdown",
   "metadata": {},
   "source": [
    "This notebook illustrates how to use Suspiciousness to calculate tension, and in this case to even do model comparison for the GG splits chains. To run it, you will need {\\tt anesthetic}. You can install it easily with \n",
    "\n",
    "> pip install anesthetic"
   ]
  },
  {
   "cell_type": "code",
   "execution_count": 1,
   "metadata": {},
   "outputs": [],
   "source": [
    "from anesthetic import NestedSamples\n",
    "import numpy as np\n",
    "from scipy.stats import chi2\n",
    "from scipy.special import erfinv, erfcinv"
   ]
  },
  {
   "cell_type": "code",
   "execution_count": 24,
   "metadata": {},
   "outputs": [],
   "source": [
    "def calculate_tension_probability(logS, bmd):\n",
    "    #d-2*logS\n",
    "    d_2logS = bmd - 2*logS\n",
    "\n",
    "    #Tension probability\n",
    "    p = chi2.sf(d_2logS,bmd)\n",
    "    \n",
    "    p = p[np.logical_not(np.isnan(p))]\n",
    "\n",
    "    #Number of sigma\n",
    "    ns = np.sqrt(2)*erfcinv(p)\n",
    "    \n",
    "    print('Tension Probability =', p.mean(), '+/-', p.std())\n",
    "    print('Number of Sigma =', ns.mean(), '+/-', ns.std())"
   ]
  },
  {
   "cell_type": "markdown",
   "metadata": {},
   "source": [
    "#### First, load the chains. Remember to change PATH_TO_CHAINS"
   ]
  },
  {
   "cell_type": "code",
   "execution_count": 2,
   "metadata": {},
   "outputs": [],
   "source": [
    "PATH_TO_CHAINS = 'chains/'\n",
    "samples_da_s_l = NestedSamples(root=PATH_TO_CHAINS+'pc_da-s_l_polytest')\n",
    "samples_da_s_l_sOm = NestedSamples(root=PATH_TO_CHAINS+'pc_da-s_l-sOm_polytest')\n",
    "samples_da_sp5br_l = NestedSamples(root=PATH_TO_CHAINS+'pc_da-sp5br_l_polytest')\n",
    "samples_da_sp5br_l_sOm = NestedSamples(root=PATH_TO_CHAINS+'pc_da-sp5br_l-sOm_polytest')\n",
    "samples_da_p5br_l_sOm = NestedSamples(root=PATH_TO_CHAINS+'pc_p5br_l-sOm_polytest')"
   ]
  },
  {
   "cell_type": "markdown",
   "metadata": {},
   "source": [
    "#### Now, calculate summary statistics"
   ]
  },
  {
   "cell_type": "code",
   "execution_count": 3,
   "metadata": {},
   "outputs": [],
   "source": [
    "output_da_s_l = samples_da_s_l.ns_output()\n",
    "output_da_s_l_sOm = samples_da_s_l_sOm.ns_output()\n",
    "output_da_sp5br_l = samples_da_sp5br_l.ns_output()\n",
    "output_da_sp5br_l_sOm = samples_da_sp5br_l_sOm.ns_output()\n",
    "output_da_p5br_l_sOm = samples_da_p5br_l_sOm.ns_output()"
   ]
  },
  {
   "cell_type": "markdown",
   "metadata": {},
   "source": [
    "#### First, calculate tension between DES and External"
   ]
  },
  {
   "cell_type": "code",
   "execution_count": null,
   "metadata": {},
   "outputs": [],
   "source": [
    "logR = output_da_sp5br_l_sOm.logZ - output_da_s_l_sOm.logZ - output_da_p5br_l_sOm.logZ\n",
    "logI = - output_da_sp5br_l_sOm.D + output_da_s_l_sOm.D + output_da_p5br_l_sOm.D\n",
    "bmd = - output_da_sp5br_l_sOm.d + output_da_s_l_sOm.d + output_da_p5br_l_sOm.d\n",
    "\n",
    "logS = logR - logI\n",
    "\n",
    "calculate_tension_probability(logS, bmd)"
   ]
  },
  {
   "cell_type": "markdown",
   "metadata": {},
   "source": [
    "#### Now, get the tension between $\\mathrm{\\Lambda CDM}$ and Split-$\\Omega_m$ for DES"
   ]
  },
  {
   "cell_type": "code",
   "execution_count": 17,
   "metadata": {},
   "outputs": [],
   "source": [
    "logR = - output_da_s_l_sOm.logZ + output_da_s_l.logZ\n",
    "logI = output_da_s_l_sOm.D - output_da_s_l.D\n",
    "bmd = output_da_s_l_sOm.d - output_da_s_l.d\n",
    "\n",
    "logS = logR - logI\n",
    "\n",
    "calculate_tension_probability(logS, bmd)"
   ]
  },
  {
   "cell_type": "markdown",
   "metadata": {},
   "source": [
    "#### Finally, get the tension between $\\mathrm{\\Lambda CDM}$ and Split-$\\Omega_m$ for DES + external"
   ]
  },
  {
   "cell_type": "code",
   "execution_count": 28,
   "metadata": {},
   "outputs": [],
   "source": [
    "logR = - output_da_sp5br_l_sOm.logZ + output_da_sp5br_l.logZ\n",
    "logI = output_da_sp5br_l_sOm.D - output_da_sp5br_l.D\n",
    "bmd = output_da_sp5br_l_sOm.d - output_da_sp5br_l.d\n",
    "\n",
    "logS = logR - logI\n",
    "\n",
    "calculate_tension_probability(logS, bmd)"
   ]
  },
  {
   "cell_type": "code",
   "execution_count": null,
   "metadata": {},
   "outputs": [],
   "source": []
  }
 ],
 "metadata": {
  "kernelspec": {
   "display_name": "Python [conda env:conda-env-4] *",
   "language": "python",
   "name": "conda-env-conda-env-4-py"
  },
  "language_info": {
   "codemirror_mode": {
    "name": "ipython",
    "version": 3
   },
   "file_extension": ".py",
   "mimetype": "text/x-python",
   "name": "python",
   "nbconvert_exporter": "python",
   "pygments_lexer": "ipython3",
   "version": "3.8.3"
  }
 },
 "nbformat": 4,
 "nbformat_minor": 4
}
